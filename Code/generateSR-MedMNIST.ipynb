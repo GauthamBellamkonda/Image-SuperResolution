{
 "cells": [
  {
   "cell_type": "code",
   "execution_count": 1,
   "metadata": {},
   "outputs": [],
   "source": [
    "import torch\n",
    "from torch.autograd import Variable\n",
    "import numpy as np\n",
    "import matplotlib.pyplot as plt\n",
    "import warnings\n",
    "import os\n",
    "import torch\n",
    "import torchvision.transforms as transforms\n",
    "\n",
    "from torchvision.datasets import CIFAR100, CIFAR10\n",
    "from tqdm import tqdm_notebook as tqdm\n",
    "from torch.utils.data import DataLoader, TensorDataset\n",
    "\n",
    "from medmnist import PathMNIST, ChestMNIST, DermaMNIST, OCTMNIST, PneumoniaMNIST, RetinaMNIST, BreastMNIST\n",
    "os.environ[\"CUDA_VISIBLE_DEVICES\"] = \"1\"\n",
    "\n",
    "warnings.filterwarnings(\"ignore\")"
   ]
  },
  {
   "cell_type": "code",
   "execution_count": 2,
   "metadata": {},
   "outputs": [],
   "source": [
    "# Configurations\n",
    "\n",
    "dataset = 'pathmnist'\n",
    "img_size = 28\n",
    "batch_size = 64\n",
    "num_classes = 9\n",
    "finetuning_epochs = 15\n",
    "epochs = 100"
   ]
  },
  {
   "cell_type": "markdown",
   "metadata": {},
   "source": [
    "### Note\n",
    "\n",
    "All Datasets will be of the format (N, C, H, W) with values between 0 and 1, unless stated otherwise.\n",
    "\n",
    "This format is easier to deal with in PyTorch."
   ]
  },
  {
   "cell_type": "code",
   "execution_count": 3,
   "metadata": {},
   "outputs": [],
   "source": [
    "srmodel = torch.load('model/model_srresnet.pth')[\"model\"]\n",
    "srmodel = srmodel.cuda()"
   ]
  },
  {
   "cell_type": "code",
   "execution_count": 4,
   "metadata": {},
   "outputs": [],
   "source": [
    "def generate_sr_dataset(dataset, model):\n",
    "    sr_images, sr_targets = [], []    \n",
    "    dataloader = DataLoader(dataset, batch_size=512, shuffle=False, num_workers=4)\n",
    "    for (inputs, targets) in tqdm(dataloader):\n",
    "        with torch.no_grad():\n",
    "            inputs = inputs.cuda()\n",
    "            inputs = Variable(inputs).float()\n",
    "            sr_inputs = model(inputs)\n",
    "            sr_images.append(sr_inputs.cpu().numpy().astype(np.float32))\n",
    "            sr_targets.append(targets.numpy().astype(np.int64))\n",
    "\n",
    "    sr_images = np.concatenate(sr_images, axis=0).clip(0, 1)\n",
    "    sr_targets = np.concatenate(sr_targets, axis=0)\n",
    "\n",
    "    sr_images = torch.from_numpy(sr_images)\n",
    "    sr_targets = torch.from_numpy(sr_targets)\n",
    "    sr_dataset = TensorDataset(sr_images, sr_targets)\n",
    "    return sr_dataset"
   ]
  },
  {
   "cell_type": "code",
   "execution_count": 5,
   "metadata": {},
   "outputs": [],
   "source": [
    "def get_dataset(dataset, transform):\n",
    "    if dataset == 'pathmnist':\n",
    "        train_dataset = PathMNIST(root='data', split='train', transform=transform, download=True)\n",
    "        val_dataset = PathMNIST(root='data', split='val', transform=transform, download=True)\n",
    "        test_dataset = PathMNIST(root='data', split='test', transform=transform, download=True)\n",
    "    elif dataset == 'chestmnist':\n",
    "        train_dataset = ChestMNIST(root='data', split='train', transform=transform, download=True)\n",
    "        val_dataset = ChestMNIST(root='data', split='val', transform=transform, download=True)\n",
    "        test_dataset = ChestMNIST(root='data', split='test', transform=transform, download=True)\n",
    "    elif dataset == 'dermamnist':\n",
    "        train_dataset = DermaMNIST(root='data', split='train', transform=transform, download=True)\n",
    "        val_dataset = DermaMNIST(root='data', split='val', transform=transform, download=True)\n",
    "        test_dataset = DermaMNIST(root='data', split='test', transform=transform, download=True)\n",
    "    elif dataset == 'octmnist':\n",
    "        train_dataset = OCTMNIST(root='data', split='train', transform=transform, download=True)\n",
    "        val_dataset = OCTMNIST(root='data', split='val', transform=transform, download=True)\n",
    "        test_dataset = OCTMNIST(root='data', split='test', transform=transform, download=True)\n",
    "    elif dataset == 'pneumoniamnist':\n",
    "        train_dataset = PneumoniaMNIST(root='data', split='train', transform=transform, download=True)\n",
    "        val_dataset = PneumoniaMNIST(root='data', split='val', transform=transform, download=True)\n",
    "        test_dataset = PneumoniaMNIST(root='data', split='test', transform=transform, download=True)\n",
    "    elif dataset == 'retinamnist':\n",
    "        train_dataset = RetinaMNIST(root='data', split='train', transform=transform, download=True)\n",
    "        val_dataset = RetinaMNIST(root='data', split='val', transform=transform, download=True)\n",
    "        test_dataset = RetinaMNIST(root='data', split='test', transform=transform, download=True)\n",
    "    elif dataset == 'breastmnist':\n",
    "        train_dataset = BreastMNIST(root='data', split='train', transform=transform, download=True)\n",
    "        val_dataset = BreastMNIST(root='data', split='val', transform=transform, download=True)\n",
    "        test_dataset = BreastMNIST(root='data', split='test', transform=transform, download=True)\n",
    "    else:\n",
    "        raise ValueError('Wrong dataset name!')\n",
    "    return train_dataset, val_dataset, test_dataset"
   ]
  },
  {
   "cell_type": "code",
   "execution_count": 6,
   "metadata": {},
   "outputs": [
    {
     "name": "stdout",
     "output_type": "stream",
     "text": [
      "Using downloaded and verified file: data/pathmnist.npz\n",
      "Using downloaded and verified file: data/pathmnist.npz\n",
      "Using downloaded and verified file: data/pathmnist.npz\n"
     ]
    },
    {
     "data": {
      "application/vnd.jupyter.widget-view+json": {
       "model_id": "4e8566feeb8e48ba81165da60349af13",
       "version_major": 2,
       "version_minor": 0
      },
      "text/plain": [
       "  0%|          | 0/176 [00:00<?, ?it/s]"
      ]
     },
     "metadata": {},
     "output_type": "display_data"
    },
    {
     "data": {
      "application/vnd.jupyter.widget-view+json": {
       "model_id": "9f6e9263170d49f78aa4dfc0a9981483",
       "version_major": 2,
       "version_minor": 0
      },
      "text/plain": [
       "  0%|          | 0/20 [00:00<?, ?it/s]"
      ]
     },
     "metadata": {},
     "output_type": "display_data"
    },
    {
     "data": {
      "application/vnd.jupyter.widget-view+json": {
       "model_id": "236e3ead6efa4be48fb32e723a24131f",
       "version_major": 2,
       "version_minor": 0
      },
      "text/plain": [
       "  0%|          | 0/15 [00:00<?, ?it/s]"
      ]
     },
     "metadata": {},
     "output_type": "display_data"
    }
   ],
   "source": [
    "# trainset = CIFAR10(root='./data', train=True, download=True, transform=transforms.ToTensor())\n",
    "# testset = CIFAR10(root='./data', train=False, download=True, transform=transforms.ToTensor())\n",
    "\n",
    "lr_trainset, lr_valset, lr_testset = get_dataset(dataset, transforms.ToTensor())\n",
    "\n",
    "sr_trainset = generate_sr_dataset(lr_trainset, srmodel)\n",
    "sr_valset = generate_sr_dataset(lr_valset, srmodel)\n",
    "sr_testset = generate_sr_dataset(lr_testset, srmodel)"
   ]
  },
  {
   "cell_type": "code",
   "execution_count": 7,
   "metadata": {},
   "outputs": [
    {
     "name": "stdout",
     "output_type": "stream",
     "text": [
      "Using downloaded and verified file: data/pathmnist.npz\n",
      "Using downloaded and verified file: data/pathmnist.npz\n",
      "Using downloaded and verified file: data/pathmnist.npz\n"
     ]
    }
   ],
   "source": [
    "bc_transform = transforms.Compose([\n",
    "    transforms.Resize((4*img_size, 4*img_size), interpolation=transforms.InterpolationMode.BICUBIC),\n",
    "    transforms.ToTensor()\n",
    "])\n",
    "\n",
    "bc_trainset, bc_valset, bc_testset = get_dataset(dataset, bc_transform)"
   ]
  },
  {
   "cell_type": "code",
   "execution_count": 8,
   "metadata": {},
   "outputs": [],
   "source": [
    "lr_trainloader = DataLoader(lr_trainset, batch_size=batch_size, shuffle=False, num_workers=4)\n",
    "lr_valloader = DataLoader(lr_valset, batch_size=batch_size, shuffle=False, num_workers=4)\n",
    "lr_testloader = DataLoader(lr_testset, batch_size=batch_size, shuffle=False, num_workers=4)\n",
    "\n",
    "sr_trainloader = DataLoader(sr_trainset, batch_size=batch_size, shuffle=False, num_workers=4)\n",
    "sr_valloader = DataLoader(sr_valset, batch_size=batch_size, shuffle=False, num_workers=4)\n",
    "sr_testloader = DataLoader(sr_testset, batch_size=batch_size, shuffle=False, num_workers=4)\n",
    "\n",
    "bc_trainloader = DataLoader(bc_trainset, batch_size=batch_size, shuffle=False, num_workers=4)\n",
    "bc_valloader = DataLoader(bc_valset, batch_size=batch_size, shuffle=False, num_workers=4)\n",
    "bc_testloader = DataLoader(bc_testset, batch_size=batch_size, shuffle=False, num_workers=4)"
   ]
  },
  {
   "cell_type": "code",
   "execution_count": 9,
   "metadata": {},
   "outputs": [
    {
     "name": "stdout",
     "output_type": "stream",
     "text": [
      "torch.Size([64, 3, 28, 28]) torch.Size([64, 1])\n"
     ]
    },
    {
     "data": {
      "image/png": "[encoded data removed]",
      "text/plain": [
       "<Figure size 640x480 with 1 Axes>"
      ]
     },
     "metadata": {},
     "output_type": "display_data"
    }
   ],
   "source": [
    "for i, (inputs, targets) in enumerate(lr_trainloader):\n",
    "    print(inputs.shape, targets.shape)\n",
    "    plt.imshow(inputs[0].permute(1, 2, 0))\n",
    "    plt.title('Low Resolution Image')\n",
    "    plt.show()\n",
    "    break"
   ]
  },
  {
   "cell_type": "code",
   "execution_count": 10,
   "metadata": {},
   "outputs": [
    {
     "name": "stdout",
     "output_type": "stream",
     "text": [
      "torch.Size([64, 3, 112, 112]) torch.Size([64, 1])\n"
     ]
    },
    {
     "data": {
      "image/png": "[encoded data removed]",
      "text/plain": [
       "<Figure size 640x480 with 1 Axes>"
      ]
     },
     "metadata": {},
     "output_type": "display_data"
    }
   ],
   "source": [
    "for i, (inputs, targets) in enumerate(bc_trainloader):\n",
    "    print(inputs.shape, targets.shape)\n",
    "    plt.imshow(inputs[0].permute(1, 2, 0))\n",
    "    plt.title('Bicubic Interpolation Image')\n",
    "    plt.show()\n",
    "    break"
   ]
  },
  {
   "cell_type": "code",
   "execution_count": 11,
   "metadata": {},
   "outputs": [
    {
     "name": "stdout",
     "output_type": "stream",
     "text": [
      "torch.Size([64, 3, 112, 112]) torch.Size([64, 1])\n"
     ]
    },
    {
     "data": {
      "image/png": "[encoded data removed]",
      "text/plain": [
       "<Figure size 640x480 with 1 Axes>"
      ]
     },
     "metadata": {},
     "output_type": "display_data"
    }
   ],
   "source": [
    "for i, (inputs, targets) in enumerate(sr_trainloader):\n",
    "    print(inputs.shape, targets.shape)\n",
    "    plt.imshow(inputs[0].permute(1, 2, 0))\n",
    "    plt.title('Super Resolution Image')\n",
    "    plt.show()\n",
    "    break"
   ]
  },
  {
   "cell_type": "markdown",
   "metadata": {},
   "source": [
    "### Training a CNN"
   ]
  },
  {
   "cell_type": "code",
   "execution_count": 12,
   "metadata": {},
   "outputs": [],
   "source": [
    "import torchvision.models as models\n",
    "import torch.optim as optim\n",
    "import torch.nn as nn\n",
    "import torch.nn.functional as F"
   ]
  },
  {
   "cell_type": "code",
   "execution_count": 13,
   "metadata": {},
   "outputs": [],
   "source": [
    "def create_model(pretrain=True, out_channels=10):\n",
    "    model = models.resnet18(pretrained=pretrain)\n",
    "    model.fc = torch.nn.Linear(512, out_channels)\n",
    "    model = model.cuda()\n",
    "    return model\n",
    "\n",
    "def train(model, trainloader, valloader, epochs=10):\n",
    "    criterion = nn.CrossEntropyLoss()\n",
    "    optimizer = optim.SGD(model.parameters(), lr=0.001, momentum=0.9)\n",
    "    accuracy = []\n",
    "    for epoch in tqdm(range(epochs)):\n",
    "        running_loss = 0.0\n",
    "        for i, (inputs, targets) in enumerate(trainloader):\n",
    "            inputs = inputs.cuda()\n",
    "            targets = targets.squeeze().cuda()\n",
    "            inputs = Variable(inputs).float()\n",
    "            targets = Variable(targets).long()\n",
    "            optimizer.zero_grad()\n",
    "            outputs = model(inputs)\n",
    "            loss = criterion(outputs, targets)\n",
    "            loss.backward()\n",
    "            optimizer.step()\n",
    "            running_loss += loss.item()\n",
    "\n",
    "        correct = 0\n",
    "        total = 0\n",
    "        with torch.no_grad():\n",
    "            for (inputs, targets) in valloader:\n",
    "                inputs = inputs.cuda()\n",
    "                targets = targets.squeeze().cuda()\n",
    "                inputs = Variable(inputs).float()\n",
    "                targets = Variable(targets).long()\n",
    "                outputs = model(inputs)\n",
    "                _, predicted = torch.max(outputs.data, 1)\n",
    "                total += targets.size(0)\n",
    "                correct += (predicted == targets).sum().item()\n",
    "\n",
    "        print(f'Accuracy of the network on the val images: {(100 * correct / total):.2f} %')\n",
    "        print('Loss on train set: ', running_loss / len(trainloader))\n",
    "        accuracy.append(correct / total)\n",
    "    return accuracy\n",
    "\n",
    "def test(model, testloader):\n",
    "    correct = 0\n",
    "    total = 0\n",
    "    with torch.no_grad():\n",
    "        for (inputs, targets) in testloader:\n",
    "            inputs = inputs.cuda()\n",
    "            targets = targets.squeeze().cuda()\n",
    "            inputs = Variable(inputs).float()\n",
    "            targets = Variable(targets).long()\n",
    "            outputs = model(inputs)\n",
    "            _, predicted = torch.max(outputs.data, 1)\n",
    "            total += targets.size(0)\n",
    "            correct += (predicted == targets).sum().item()\n",
    "\n",
    "    print(f'Accuracy of the network on the test images: {(100 * correct / total):.2f} %')"
   ]
  },
  {
   "cell_type": "code",
   "execution_count": 14,
   "metadata": {},
   "outputs": [
    {
     "data": {
      "application/vnd.jupyter.widget-view+json": {
       "model_id": "0382340af8a3448fa92e91b4e8cd40f7",
       "version_major": 2,
       "version_minor": 0
      },
      "text/plain": [
       "  0%|          | 0/2 [00:00<?, ?it/s]"
      ]
     },
     "metadata": {},
     "output_type": "display_data"
    },
    {
     "name": "stdout",
     "output_type": "stream",
     "text": [
      "Accuracy of the network on the val images: 89.61 %\n",
      "Loss on train set:  0.4679888556390344\n",
      "Accuracy of the network on the val images: 90.69 %\n",
      "Loss on train set:  0.22876590540647168\n",
      "Accuracy of the network on the test images: 80.72 %\n"
     ]
    }
   ],
   "source": [
    "model = create_model(True, num_classes)\n",
    "lr_val_acc = train(model, lr_trainloader, lr_valloader , epochs=finetuning_epochs)\n",
    "test(model, lr_testloader)\n",
    "\n",
    "torch.save(model.state_dict(), f'model/model_lr_finetune15_{dataset}.pth')"
   ]
  },
  {
   "cell_type": "code",
   "execution_count": 15,
   "metadata": {},
   "outputs": [
    {
     "data": {
      "application/vnd.jupyter.widget-view+json": {
       "model_id": "f2f92423d80a4afba94968f2109fb6eb",
       "version_major": 2,
       "version_minor": 0
      },
      "text/plain": [
       "  0%|          | 0/2 [00:00<?, ?it/s]"
      ]
     },
     "metadata": {},
     "output_type": "display_data"
    },
    {
     "name": "stdout",
     "output_type": "stream",
     "text": [
      "Accuracy of the network on the val images: 95.60 %\n",
      "Loss on train set:  0.26638350585461\n"
     ]
    }
   ],
   "source": [
    "model = create_model(True, num_classes)\n",
    "bc_val_acc = train(model, bc_trainloader, bc_valloader , epochs=finetuning_epochs)\n",
    "test(model, bc_testloader)\n",
    "\n",
    "torch.save(model.state_dict(), f'model/model_bc_finetune15_{dataset}.pth')"
   ]
  },
  {
   "cell_type": "code",
   "execution_count": null,
   "metadata": {},
   "outputs": [],
   "source": [
    "model = create_model(True, num_classes)\n",
    "sr_val_acc = train(model, sr_trainloader, sr_valloader, epochs=finetuning_epochs)\n",
    "test(model, sr_testloader)\n",
    "\n",
    "torch.save(model.state_dict(), f'model/model_sr_finetune15_{dataset}.pth')"
   ]
  },
  {
   "cell_type": "code",
   "execution_count": null,
   "metadata": {},
   "outputs": [],
   "source": [
    "plt.plot(lr_val_acc, label='LR')\n",
    "plt.plot(bc_val_acc, label='bicubic')\n",
    "plt.plot(sr_val_acc, label='srresnet')\n",
    "plt.xlabel('Epoch')\n",
    "plt.ylabel('Validation Accuracy')\n",
    "plt.title(f'Finetuning performance on {dataset}')\n",
    "plt.legend()\n",
    "plt.grid()\n",
    "plt.show()\n",
    "plt.savefig(f'./finetune_{dataset}.png')"
   ]
  },
  {
   "cell_type": "code",
   "execution_count": null,
   "metadata": {},
   "outputs": [],
   "source": [
    "model = create_model(False, num_classes)\n",
    "lr_val_acc = train(model, lr_trainloader, lr_valloader, epochs=epochs)\n",
    "test(model, lr_testloader)\n",
    "\n",
    "torch.save(model.state_dict(), f'model/model_lr_scratch100_{dataset}.pth')"
   ]
  },
  {
   "cell_type": "code",
   "execution_count": null,
   "metadata": {},
   "outputs": [],
   "source": [
    "model = create_model(False, num_classes)\n",
    "bc_val_acc = train(model, bc_trainloader, bc_valloader, epochs=epochs)\n",
    "test(model, bc_testloader)\n",
    "\n",
    "torch.save(model.state_dict(), f'model/model_bc_scratch100_{dataset}.pth')"
   ]
  },
  {
   "cell_type": "code",
   "execution_count": null,
   "metadata": {},
   "outputs": [],
   "source": [
    "model = create_model(False, num_classes)\n",
    "sr_val_acc = train(model, sr_trainloader, sr_valloader, epochs=epochs)\n",
    "test(model, sr_testloader)\n",
    "\n",
    "torch.save(model.state_dict(), f'model/model_sr_scratch100_{dataset}.pth')"
   ]
  },
  {
   "cell_type": "code",
   "execution_count": null,
   "metadata": {},
   "outputs": [],
   "source": [
    "plt.plot(lr_val_acc, label='LR')\n",
    "plt.plot(bc_val_acc, label='bicubic')\n",
    "plt.plot(sr_val_acc, label='srresnet')\n",
    "plt.xlabel('Epoch')\n",
    "plt.ylabel('Accuracy')\n",
    "plt.title(f'Training performance on {dataset}')\n",
    "plt.legend()\n",
    "plt.grid()\n",
    "plt.show()\n",
    "plt.savefig(f'./train_{dataset}.png')"
   ]
  }
 ],
 "metadata": {
  "kernelspec": {
   "display_name": "Python 3 (ipykernel)",
   "language": "python",
   "name": "python3"
  },
  "orig_nbformat": 4
 },
 "nbformat": 4,
 "nbformat_minor": 2
}
